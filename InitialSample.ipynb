{
 "cells": [
  {
   "cell_type": "markdown",
   "id": "c570f830-5a30-4ee8-9175-c425c3aeb8b0",
   "metadata": {},
   "source": [
    "``` bash\n",
    "pip install azure-search-documents\n",
    "pip install azure-identity\n",
    "pip install langchain\n",
    "pip install -U langchain-community\n",
    "\n",
    "# Create Search Index\n",
    "az search service create --name mh-search-002 --resource-group mh-aoai-rg --sku free --location westus\n",
    "```"
   ]
  },
  {
   "cell_type": "code",
   "execution_count": 1,
   "id": "37759504-a99b-49e9-8af6-0664f4112b17",
   "metadata": {},
   "outputs": [],
   "source": [
    "import os\n",
    "\n",
    "from langchain_community.vectorstores.azuresearch import AzureSearch\n",
    "from langchain_openai import AzureOpenAIEmbeddings, OpenAIEmbeddings"
   ]
  },
  {
   "cell_type": "code",
   "execution_count": 2,
   "id": "245e2f8a-825f-41f3-bc31-65fd3e354b6d",
   "metadata": {},
   "outputs": [],
   "source": [
    "# Configure OpenAI settings\n",
    "azure_endpoint: str = \"https://eastus.api.cognitive.microsoft.com/\"\n",
    "azure_openai_api_key: str = \"\"\n",
    "azure_openai_api_version: str = \"2023-05-15\"\n",
    "azure_deployment: str = \"mh-embedding-ada-002\"\n",
    "\n",
    "# Configure vector store settings\n",
    "vector_store_address: str = \"https://mh-search-002.search.windows.net\"\n",
    "vector_store_password: str = \"\""
   ]
  },
  {
   "cell_type": "code",
   "execution_count": 4,
   "id": "8f5f25e3-51fb-45d7-9487-70b942299156",
   "metadata": {},
   "outputs": [],
   "source": [
    "# Create Embeddings and Vector Store Instances\n",
    "embeddings: AzureOpenAIEmbeddings = AzureOpenAIEmbeddings(\n",
    "    azure_deployment=azure_deployment,\n",
    "    openai_api_version=azure_openai_api_version,\n",
    "    azure_endpoint=azure_endpoint,\n",
    "    api_key=azure_openai_api_key,\n",
    ")"
   ]
  },
  {
   "cell_type": "code",
   "execution_count": 5,
   "id": "4f79afb0-940a-4d70-9faa-6508fbbbc539",
   "metadata": {},
   "outputs": [],
   "source": [
    "# Create Index\n",
    "\n",
    "index_name: str = \"langchain-vector-demo\"\n",
    "vector_store: AzureSearch = AzureSearch(\n",
    "    azure_search_endpoint=vector_store_address,\n",
    "    azure_search_key=vector_store_password,\n",
    "    index_name=index_name,\n",
    "    embedding_function=embeddings.embed_query,\n",
    ")"
   ]
  },
  {
   "cell_type": "code",
   "execution_count": 6,
   "id": "e315c6f1-4121-4a4a-9718-9073a724e3d8",
   "metadata": {},
   "outputs": [
    {
     "data": {
      "text/plain": [
       "['ODllNjQ4YWQtODQ4Ni00NDE1LWJmOTMtNDcwODgyNDE5OGY4',\n",
       " 'MDcxNGJkMDMtZWNkYS00YmQxLWI2MzAtYTQyY2ExMTNiMjQ3',\n",
       " 'YTQ1NmZlYzktNDIxOS00Yzg5LTkxYzMtMzNkNmJmZTVkMThh',\n",
       " 'YjQ1NjcwYWMtMzUxNC00ZDNiLThkOWItODU1MjBjNDMwYmJl',\n",
       " 'MWM4NzE3NGMtYmQxZC00NjMwLWE5OTEtNjU5ZjE0MDhlMjA4',\n",
       " 'MmM4YTM3ZjYtN2YxNC00NTliLWJhOWUtNzM2MWFhMDg5YmU1',\n",
       " 'MWFiNzUwMTMtMDc3OC00YmE4LTg0OTgtMzA4ZDg2OWIxNmQy',\n",
       " 'NTAxZjc0YzYtNTJiMi00MzgzLTkwYzgtMzdkYTBlYzhkYzA4',\n",
       " 'NWZlN2VlOWMtNzI5ZS00NWQxLTkwOGYtYmY3NjVhNDAwMDdk',\n",
       " 'MDg5MjA3MjctZjlmZC00YmQzLWE2YmUtMGM1ZjA1ZTMwNmE2',\n",
       " 'M2RiZjQxMjUtMmViZS00ZTQwLWI3ZTEtZTNmZmQ4YWViYmE2',\n",
       " 'MWUyNTgwZmQtNjQ2MS00ZDBkLWFjNTItZmYwOGFlMWU1Mzkz',\n",
       " 'ZjgwYjA0NTgtMjI5OC00MDlmLWFjMzEtMzA5NzIzNGM0NDFl',\n",
       " 'MGVjZTgyNWMtMzk2Yy00MTU2LTgzZWYtMGJlYjcwOTRiOWEw',\n",
       " 'MDVjZmIzOWQtZjVmYS00ZDQ0LTlmMzAtNjZjMDE4YmUzNzdk',\n",
       " 'M2JkYTI0MjYtNzNhZi00ZGE2LWFlNWYtZTg5MzRiM2Q3M2Ey',\n",
       " 'MjllM2FiOTEtN2MzOC00OGNjLWFiNjctMDUyOWQ1ZjJhNmUy',\n",
       " 'YzJlMGVmYTQtMGI2Ny00NWMzLWFhMzEtMDc3NTdhNGM3Mjhk',\n",
       " 'ZmE0MTMxNzMtMGNiYy00MjU3LThkMzItYzc0NjI4NzM4ODU0',\n",
       " 'MGQ2ODNjZGYtMzI0Yi00MjUzLWFjYjEtMTQ3YzBmOTRjYTA4',\n",
       " 'MmNmNzA3YWItM2ZmMS00YTQ1LWI5NDUtOTFkM2U1NDk0YzY3',\n",
       " 'YWU5YzIzYzItNDIzZi00N2VhLWJhZWEtNTlmNGQ3NWQ3OGVl',\n",
       " 'MDRlYTgxYmEtMWQ1Ni00NTY1LWFlNDYtMTlmZDdmYTVlNjAx',\n",
       " 'MjNmZDQ5MDktOWE0OC00ZTZhLWI5MzQtNjMwOThlY2E5MWEx',\n",
       " 'ZmYwZDNjOGEtNjY1Zi00NTIzLWExNTAtODc0YjBhMTc3NDY0',\n",
       " 'MzQ1NThhMGEtYzE0YS00ZDE2LTgyODctZjI3MTQ2MmYwN2Qz',\n",
       " 'ZmZlZmM2ZGQtNjQ0ZS00OTgwLWIzM2UtNzc2NDE4OGMzNTQx',\n",
       " 'OTEwN2Q1MjUtMmVjYi00YjM5LTk3MTUtODFjZjE0NmZhNGM3',\n",
       " 'NjcwMTEwNGItYmZkMy00N2EyLWJjMWMtYTNhZmI3NjI5YjFm',\n",
       " 'ZjJiOTE2N2ItN2UzMy00ZGFjLWJlYjUtZjE4ZDE5YjBkMDg1',\n",
       " 'ZTU3MzMzYTQtMzZmZi00OTA1LTk1MjEtZWZkN2ZhM2Q3MzFm',\n",
       " 'YjZhYjU1Y2YtN2U4Zi00ZmYyLWFmNmUtMzA1ZDczMWU2YTQy',\n",
       " 'MzNlMmE5MGEtNGQ4Zi00MzhkLWI0ZmYtMDMyMWMwMTg4MWUx',\n",
       " 'MjVhY2E2Y2ItOWQ0ZS00NGIzLTg5NDAtZjQxZWZjOGVjZGZk',\n",
       " 'ZmQ1MTg2YzItYzdhNS00NDIwLWE1NjAtZDBmNzFiZDgwZDQ3',\n",
       " 'YjE4MDI2YmItOWUyOC00OWVhLWFhNzYtZDliMzQ5YTI1M2E1',\n",
       " 'Mzc5OTU5ZWYtZTkxNS00NWU0LThmM2QtNWEyODQzMmQ1M2Fm',\n",
       " 'MmZmOWZiNGYtOTg1MS00M2M2LWI2ZDktNTFhZjA4ZWI5ODEy',\n",
       " 'N2VlMjViNDUtNTcwMy00ODIzLWFmYzYtZmJmNmE3N2M1ZTM1',\n",
       " 'YzY0NDY5M2UtZTFjOC00OTQ4LWJmYjktOTBkMDVjYzU1NDIw',\n",
       " 'NTVhOTVhMzktYzgxMC00MmY4LTg5OGEtOGJhMzBkMzdlNThk',\n",
       " 'YjQ1MTFiYmItMTdmYi00ZmM5LWI0NDctY2I2OGJjOWFiNTU0']"
      ]
     },
     "execution_count": 6,
     "metadata": {},
     "output_type": "execute_result"
    }
   ],
   "source": [
    "# Insert text and embeddings into vector store\n",
    "from langchain_community.document_loaders import TextLoader\n",
    "from langchain_text_splitters import CharacterTextSplitter\n",
    "\n",
    "loader = TextLoader(\"state_of_the_union.txt\", encoding=\"utf-8\")\n",
    "\n",
    "documents = loader.load()\n",
    "text_splitter = CharacterTextSplitter(chunk_size=1000, chunk_overlap=0)\n",
    "docs = text_splitter.split_documents(documents)\n",
    "\n",
    "vector_store.add_documents(documents=docs)"
   ]
  },
  {
   "cell_type": "code",
   "execution_count": 7,
   "id": "069b4a2b-0c2e-44b1-bcf8-8573c1b3f5be",
   "metadata": {},
   "outputs": [
    {
     "name": "stdout",
     "output_type": "stream",
     "text": [
      "Tonight. I call on the Senate to: Pass the Freedom to Vote Act. Pass the John Lewis Voting Rights Act. And while you’re at it, pass the Disclose Act so Americans can know who is funding our elections. \n",
      "\n",
      "Tonight, I’d like to honor someone who has dedicated his life to serve this country: Justice Stephen Breyer—an Army veteran, Constitutional scholar, and retiring Justice of the United States Supreme Court. Justice Breyer, thank you for your service. \n",
      "\n",
      "One of the most serious constitutional responsibilities a President has is nominating someone to serve on the United States Supreme Court. \n",
      "\n",
      "And I did that 4 days ago, when I nominated Circuit Court of Appeals Judge Ketanji Brown Jackson. One of our nation’s top legal minds, who will continue Justice Breyer’s legacy of excellence.\n"
     ]
    }
   ],
   "source": [
    "# Perform a similarity search\n",
    "docs = vector_store.similarity_search(\n",
    "    query=\"What did the president say about Ketanji Brown Jackson\",\n",
    "    k=3,\n",
    "    search_type=\"similarity\",\n",
    ")\n",
    "print(docs[0].page_content)"
   ]
  },
  {
   "cell_type": "code",
   "execution_count": 8,
   "id": "827ce4ef-3827-4dca-8148-8af22fcf1524",
   "metadata": {},
   "outputs": [
    {
     "name": "stdout",
     "output_type": "stream",
     "text": [
      "[(Document(page_content='Tonight. I call on the Senate to: Pass the Freedom to Vote Act. Pass the John Lewis Voting Rights Act. And while you’re at it, pass the Disclose Act so Americans can know who is funding our elections. \\n\\nTonight, I’d like to honor someone who has dedicated his life to serve this country: Justice Stephen Breyer—an Army veteran, Constitutional scholar, and retiring Justice of the United States Supreme Court. Justice Breyer, thank you for your service. \\n\\nOne of the most serious constitutional responsibilities a President has is nominating someone to serve on the United States Supreme Court. \\n\\nAnd I did that 4 days ago, when I nominated Circuit Court of Appeals Judge Ketanji Brown Jackson. One of our nation’s top legal minds, who will continue Justice Breyer’s legacy of excellence.', metadata={'source': 'state_of_the_union.txt'}),\n",
      "  0.84411013),\n",
      " (Document(page_content='A former top litigator in private practice. A former federal public defender. And from a family of public school educators and police officers. A consensus builder. Since she’s been nominated, she’s received a broad range of support—from the Fraternal Order of Police to former judges appointed by Democrats and Republicans. \\n\\nAnd if we are to advance liberty and justice, we need to secure the Border and fix the immigration system. \\n\\nWe can do both. At our border, we’ve installed new technology like cutting-edge scanners to better detect drug smuggling.  \\n\\nWe’ve set up joint patrols with Mexico and Guatemala to catch more human traffickers.  \\n\\nWe’re putting in place dedicated immigration judges so families fleeing persecution and violence can have their cases heard faster. \\n\\nWe’re securing commitments and supporting partners in South and Central America to host more refugees and secure their own borders.', metadata={'source': 'state_of_the_union.txt'}),\n",
      "  0.82133967),\n",
      " (Document(page_content='And for our LGBTQ+ Americans, let’s finally get the bipartisan Equality Act to my desk. The onslaught of state laws targeting transgender Americans and their families is wrong. \\n\\nAs I said last year, especially to our younger transgender Americans, I will always have your back as your President, so you can be yourself and reach your God-given potential. \\n\\nWhile it often appears that we never agree, that isn’t true. I signed 80 bipartisan bills into law last year. From preventing government shutdowns to protecting Asian-Americans from still-too-common hate crimes to reforming military justice. \\n\\nAnd soon, we’ll strengthen the Violence Against Women Act that I first wrote three decades ago. It is important for us to show the nation that we can come together and do big things. \\n\\nSo tonight I’m offering a Unity Agenda for the Nation. Four big things we can do together.  \\n\\nFirst, beat the opioid epidemic.', metadata={'source': 'state_of_the_union.txt'}),\n",
      "  0.81516296),\n",
      " (Document(page_content='Tonight, I’m announcing a crackdown on these companies overcharging American businesses and consumers. \\n\\nAnd as Wall Street firms take over more nursing homes, quality in those homes has gone down and costs have gone up.  \\n\\nThat ends on my watch. \\n\\nMedicare is going to set higher standards for nursing homes and make sure your loved ones get the care they deserve and expect. \\n\\nWe’ll also cut costs and keep the economy going strong by giving workers a fair shot, provide more training and apprenticeships, hire them based on their skills not degrees. \\n\\nLet’s pass the Paycheck Fairness Act and paid leave.  \\n\\nRaise the minimum wage to $15 an hour and extend the Child Tax Credit, so no one has to raise a family in poverty. \\n\\nLet’s increase Pell Grants and increase our historic support of HBCUs, and invest in what Jill—our First Lady who teaches full-time—calls America’s best-kept secret: community colleges.', metadata={'source': 'state_of_the_union.txt'}),\n",
      "  0.81492454)]\n"
     ]
    }
   ],
   "source": [
    "# Perform a vector similarity search with relevance scores\n",
    "docs_and_scores = vector_store.similarity_search_with_relevance_scores(\n",
    "    query=\"What did the president say about Ketanji Brown Jackson\",\n",
    "    k=4,\n",
    "    score_threshold=0.80,\n",
    ")\n",
    "from pprint import pprint\n",
    "\n",
    "pprint(docs_and_scores)"
   ]
  },
  {
   "cell_type": "code",
   "execution_count": 9,
   "id": "26ee9d30-6605-4229-beab-90a6586907bb",
   "metadata": {},
   "outputs": [
    {
     "name": "stdout",
     "output_type": "stream",
     "text": [
      "Tonight. I call on the Senate to: Pass the Freedom to Vote Act. Pass the John Lewis Voting Rights Act. And while you’re at it, pass the Disclose Act so Americans can know who is funding our elections. \n",
      "\n",
      "Tonight, I’d like to honor someone who has dedicated his life to serve this country: Justice Stephen Breyer—an Army veteran, Constitutional scholar, and retiring Justice of the United States Supreme Court. Justice Breyer, thank you for your service. \n",
      "\n",
      "One of the most serious constitutional responsibilities a President has is nominating someone to serve on the United States Supreme Court. \n",
      "\n",
      "And I did that 4 days ago, when I nominated Circuit Court of Appeals Judge Ketanji Brown Jackson. One of our nation’s top legal minds, who will continue Justice Breyer’s legacy of excellence.\n"
     ]
    }
   ],
   "source": [
    "# Perform a hybrid search using the search_type parameter\n",
    "docs = vector_store.similarity_search(\n",
    "    query=\"What did the president say about Ketanji Brown Jackson\",\n",
    "    k=3,\n",
    "    search_type=\"hybrid\",\n",
    ")\n",
    "print(docs[0].page_content)"
   ]
  },
  {
   "cell_type": "code",
   "execution_count": null,
   "id": "4763939a-3b6a-444e-9819-b8e7bd55cf20",
   "metadata": {},
   "outputs": [],
   "source": []
  }
 ],
 "metadata": {
  "kernelspec": {
   "display_name": "Python 3 (ipykernel)",
   "language": "python",
   "name": "python3"
  },
  "language_info": {
   "codemirror_mode": {
    "name": "ipython",
    "version": 3
   },
   "file_extension": ".py",
   "mimetype": "text/x-python",
   "name": "python",
   "nbconvert_exporter": "python",
   "pygments_lexer": "ipython3",
   "version": "3.12.2"
  }
 },
 "nbformat": 4,
 "nbformat_minor": 5
}
